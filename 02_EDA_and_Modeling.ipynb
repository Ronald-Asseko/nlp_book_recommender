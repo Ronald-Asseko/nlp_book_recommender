{
 "cells": [
  {
   "cell_type": "markdown",
   "id": "compatible-prayer",
   "metadata": {},
   "source": [
    "# Problem Statement:\n",
    "    Based on people's book suggestions on Reddit (r/booksuggestions), what are similar books that other people have read/suggested? Using NLP and Deep Learning methods, let's analyze those posts and build a recommender system."
   ]
  },
  {
   "cell_type": "markdown",
   "id": "intimate-talent",
   "metadata": {},
   "source": [
    "## Project Overview\n",
    "1. Pull data from Reddit posts (r/booksuggestions) between July 25, 2010 and March 30, 2021\n",
    "2. Use adv. NLP methods to analyze data:\n",
    "   - clean the posts, remove special characters\n",
    "   - detect entities on each row\n",
    "   - use cont. skip-grams from Word2Vec for similar words\n",
    "   - create a function that input a post and returns 3 books\n",
    "3. Conclusion and recommendations.\n"
   ]
  },
  {
   "cell_type": "markdown",
   "id": "sharp-stroke",
   "metadata": {},
   "source": [
    "### Goals of this notebook\n",
    "    - Exploratore the data \n",
    "    - Identify entities \n",
    "    - Model and build the recommender system \n",
    "    - Conclusion & Recommendation"
   ]
  },
  {
   "cell_type": "code",
   "execution_count": 2,
   "id": "electrical-coach",
   "metadata": {},
   "outputs": [],
   "source": [
    "import pandas as pd\n",
    "import numpy as np\n",
    "import os\n",
    "import requests\n",
    "import re\n",
    "\n",
    "import spacy #https://scapy.readthedocs.io/en/latest/installation.html#installing-scapy-v2-x\n",
    "from spacy import displacy\n",
    "from collections import Counter\n",
    "import en_core_web_sm\n",
    "\n",
    "import gensim \n",
    "from gensim.test.utils import common_texts\n",
    "from gensim.models import Word2Vec\n",
    "\n",
    "from pprint import pprint\n",
    "import matplotlib.pyplot as plt\n",
    "\n",
    "import nltk\n",
    "from nltk.tokenize import word_tokenize\n",
    "from nltk.tag import pos_tag\n",
    "from nltk.chunk import ne_chunk, conlltags2tree, tree2conlltags\n",
    "from nltk.stem import WordNetLemmatizer\n",
    "\n",
    "import warnings\n",
    "warnings.filterwarnings('ignore')\n",
    "\n",
    "plt.style.use('ggplot')"
   ]
  },
  {
   "cell_type": "markdown",
   "id": "tested-hypothesis",
   "metadata": {},
   "source": [
    "## EDA & Identifying Entities"
   ]
  },
  {
   "cell_type": "markdown",
   "id": "hired-piece",
   "metadata": {},
   "source": [
    "Let's first import our data into a Pandas dataframe"
   ]
  },
  {
   "cell_type": "code",
   "execution_count": 3,
   "id": "republican-campus",
   "metadata": {},
   "outputs": [
    {
     "data": {
      "text/html": [
       "<div>\n",
       "<style scoped>\n",
       "    .dataframe tbody tr th:only-of-type {\n",
       "        vertical-align: middle;\n",
       "    }\n",
       "\n",
       "    .dataframe tbody tr th {\n",
       "        vertical-align: top;\n",
       "    }\n",
       "\n",
       "    .dataframe thead th {\n",
       "        text-align: right;\n",
       "    }\n",
       "</style>\n",
       "<table border=\"1\" class=\"dataframe\">\n",
       "  <thead>\n",
       "    <tr style=\"text-align: right;\">\n",
       "      <th></th>\n",
       "      <th>clean_text</th>\n",
       "    </tr>\n",
       "  </thead>\n",
       "  <tbody>\n",
       "    <tr>\n",
       "      <th>0</th>\n",
       "      <td>Looking for Horror fiction that explores the u...</td>\n",
       "    </tr>\n",
       "    <tr>\n",
       "      <th>1</th>\n",
       "      <td>Books that are about or talk about US Army PSY...</td>\n",
       "    </tr>\n",
       "    <tr>\n",
       "      <th>2</th>\n",
       "      <td>Looking for new sci-fiSo I read a ton of sci-f...</td>\n",
       "    </tr>\n",
       "    <tr>\n",
       "      <th>3</th>\n",
       "      <td>Recommend me my very first book to readBeing h...</td>\n",
       "    </tr>\n",
       "    <tr>\n",
       "      <th>4</th>\n",
       "      <td>Started a book club. Suggestions?Somehow I bec...</td>\n",
       "    </tr>\n",
       "  </tbody>\n",
       "</table>\n",
       "</div>"
      ],
      "text/plain": [
       "                                          clean_text\n",
       "0  Looking for Horror fiction that explores the u...\n",
       "1  Books that are about or talk about US Army PSY...\n",
       "2  Looking for new sci-fiSo I read a ton of sci-f...\n",
       "3  Recommend me my very first book to readBeing h...\n",
       "4  Started a book club. Suggestions?Somehow I bec..."
      ]
     },
     "execution_count": 3,
     "metadata": {},
     "output_type": "execute_result"
    }
   ],
   "source": [
    "# checking directory\n",
    "# os.listdir(path='/Users/ronald_asseko_messa/Google Drive/dsir-125-large-files/')\n",
    "\n",
    "# reading the data file\n",
    "booksuggestions_clean_df = pd.read_pickle('/Users/ronald_asseko_messa/Google Drive/dsir-125-large-files/booksuggestions_clean_df.pkl')\n",
    "\n",
    "# here is our data frame\n",
    "df = booksuggestions_clean_df[['clean_text']]\n",
    "df.head()"
   ]
  },
  {
   "cell_type": "markdown",
   "id": "critical-classroom",
   "metadata": {},
   "source": [
    "Next, we create vectors of words (tokens) for each post, root words (lemmatize) for each token, and identify entities with pos_tag from NLTK. The lemmatizer removes the suffixes or prefixes used with a word while the pos_tag is used to understand sentence structures. For instance, a word like \"churches\" and returns \"church.\" and detects books on each row."
   ]
  },
  {
   "cell_type": "code",
   "execution_count": 14,
   "id": "crucial-afternoon",
   "metadata": {},
   "outputs": [
    {
     "data": {
      "text/html": [
       "<div>\n",
       "<style scoped>\n",
       "    .dataframe tbody tr th:only-of-type {\n",
       "        vertical-align: middle;\n",
       "    }\n",
       "\n",
       "    .dataframe tbody tr th {\n",
       "        vertical-align: top;\n",
       "    }\n",
       "\n",
       "    .dataframe thead th {\n",
       "        text-align: right;\n",
       "    }\n",
       "</style>\n",
       "<table border=\"1\" class=\"dataframe\">\n",
       "  <thead>\n",
       "    <tr style=\"text-align: right;\">\n",
       "      <th></th>\n",
       "      <th>clean_text</th>\n",
       "      <th>text_tokens</th>\n",
       "      <th>text_tokens_lemma</th>\n",
       "      <th>tokens_pos_tagged</th>\n",
       "    </tr>\n",
       "  </thead>\n",
       "  <tbody>\n",
       "    <tr>\n",
       "      <th>0</th>\n",
       "      <td>Looking for Horror fiction that explores the u...</td>\n",
       "      <td>[Looking, for, Horror, fiction, that, explores...</td>\n",
       "      <td>[Looking, for, Horror, fiction, that, explores...</td>\n",
       "      <td>[(Looking, VBG), (for, IN), (Horror, NNP), (fi...</td>\n",
       "    </tr>\n",
       "    <tr>\n",
       "      <th>1</th>\n",
       "      <td>Books that are about or talk about US Army PSY...</td>\n",
       "      <td>[Books, that, are, about, or, talk, about, US,...</td>\n",
       "      <td>[Books, that, are, about, or, talk, about, US,...</td>\n",
       "      <td>[(Books, NNS), (that, WDT), (are, VBP), (about...</td>\n",
       "    </tr>\n",
       "    <tr>\n",
       "      <th>2</th>\n",
       "      <td>Looking for new sci-fiSo I read a ton of sci-f...</td>\n",
       "      <td>[Looking, for, new, sci-fiSo, I, read, a, ton,...</td>\n",
       "      <td>[Looking, for, new, sci-fiSo, I, read, a, ton,...</td>\n",
       "      <td>[(Looking, VBG), (for, IN), (new, JJ), (sci-fi...</td>\n",
       "    </tr>\n",
       "    <tr>\n",
       "      <th>3</th>\n",
       "      <td>Recommend me my very first book to readBeing h...</td>\n",
       "      <td>[Recommend, me, my, very, first, book, to, rea...</td>\n",
       "      <td>[Recommend, me, my, very, first, book, to, rea...</td>\n",
       "      <td>[(Recommend, VB), (me, PRP), (my, PRP$), (very...</td>\n",
       "    </tr>\n",
       "    <tr>\n",
       "      <th>4</th>\n",
       "      <td>Started a book club. Suggestions?Somehow I bec...</td>\n",
       "      <td>[Started, a, book, club, ., Suggestions, ?, So...</td>\n",
       "      <td>[Started, a, book, club, ., Suggestions, ?, So...</td>\n",
       "      <td>[(Started, VBD), (a, DT), (book, NN), (club, N...</td>\n",
       "    </tr>\n",
       "  </tbody>\n",
       "</table>\n",
       "</div>"
      ],
      "text/plain": [
       "                                          clean_text  \\\n",
       "0  Looking for Horror fiction that explores the u...   \n",
       "1  Books that are about or talk about US Army PSY...   \n",
       "2  Looking for new sci-fiSo I read a ton of sci-f...   \n",
       "3  Recommend me my very first book to readBeing h...   \n",
       "4  Started a book club. Suggestions?Somehow I bec...   \n",
       "\n",
       "                                         text_tokens  \\\n",
       "0  [Looking, for, Horror, fiction, that, explores...   \n",
       "1  [Books, that, are, about, or, talk, about, US,...   \n",
       "2  [Looking, for, new, sci-fiSo, I, read, a, ton,...   \n",
       "3  [Recommend, me, my, very, first, book, to, rea...   \n",
       "4  [Started, a, book, club, ., Suggestions, ?, So...   \n",
       "\n",
       "                                   text_tokens_lemma  \\\n",
       "0  [Looking, for, Horror, fiction, that, explores...   \n",
       "1  [Books, that, are, about, or, talk, about, US,...   \n",
       "2  [Looking, for, new, sci-fiSo, I, read, a, ton,...   \n",
       "3  [Recommend, me, my, very, first, book, to, rea...   \n",
       "4  [Started, a, book, club, ., Suggestions, ?, So...   \n",
       "\n",
       "                                   tokens_pos_tagged  \n",
       "0  [(Looking, VBG), (for, IN), (Horror, NNP), (fi...  \n",
       "1  [(Books, NNS), (that, WDT), (are, VBP), (about...  \n",
       "2  [(Looking, VBG), (for, IN), (new, JJ), (sci-fi...  \n",
       "3  [(Recommend, VB), (me, PRP), (my, PRP$), (very...  \n",
       "4  [(Started, VBD), (a, DT), (book, NN), (club, N...  "
      ]
     },
     "execution_count": 14,
     "metadata": {},
     "output_type": "execute_result"
    }
   ],
   "source": [
    "# tokenize words\n",
    "# changed token to be run on raw text and cleanner version\n",
    "# since some special characters are used in names, titles ... \n",
    "# this version works best \n",
    "\n",
    "df['text_tokens'] = df['clean_text'].apply(lambda x: word_tokenize(str(x)))\n",
    "df.head()\n",
    "\n",
    "# # lemmatize clean text\n",
    "lemma = WordNetLemmatizer() # instantiate lemmatizer\n",
    "\n",
    "def word_lemmatizer(text):\n",
    "    lem_text = [lemma.lemmatize(i) for i in text]\n",
    "    return lem_text\n",
    "\n",
    "df['text_tokens_lemma'] = df['text_tokens'].apply(lambda x: word_lemmatizer(x))\n",
    "\n",
    "df.head()\n",
    "\n",
    "# tag each token with its entity\n",
    "def word_pos_tagger(text):\n",
    "    pos_tagged_text = nltk.pos_tag(text)\n",
    "    return pos_tagged_text\n",
    "\n",
    "df['tokens_pos_tagged'] = df['text_tokens'].apply(lambda x: word_pos_tagger(x))\n",
    "df.head()"
   ]
  },
  {
   "cell_type": "markdown",
   "id": "opposed-essay",
   "metadata": {},
   "source": [
    "Let's use the spaCy English model to identify entities on one post."
   ]
  },
  {
   "cell_type": "code",
   "execution_count": 5,
   "id": "announced-prompt",
   "metadata": {},
   "outputs": [
    {
     "data": {
      "text/plain": [
       "[('first', 'ORDINAL'),\n",
       " ('This summer', 'DATE'),\n",
       " ('Harry Potter', 'PERSON'),\n",
       " ('Rome', 'GPE')]"
      ]
     },
     "execution_count": 5,
     "metadata": {},
     "output_type": "execute_result"
    }
   ],
   "source": [
    "# load nlp english model to analyze entities \n",
    "nlp = spacy.load(\"en_core_web_sm\") # nlp = en_core_web_sm.load()\n",
    "\n",
    "# call entity on first row\n",
    "[(x.text, x.label_) for x in nlp(df['clean_text'][3]).ents]"
   ]
  },
  {
   "cell_type": "markdown",
   "id": "handmade-penalty",
   "metadata": {},
   "source": [
    "A sample of our text (the first million characters) to count the number of entities, and look at their unique value counts. Note that our NLP model is capped at 1M characters, anything beyond that won't work. (as of April 2021)"
   ]
  },
  {
   "cell_type": "code",
   "execution_count": 8,
   "id": "daily-scholar",
   "metadata": {},
   "outputs": [
    {
     "name": "stdout",
     "output_type": "stream",
     "text": [
      "number of entities: 7195\n",
      "\n",
      " unique labels: \n",
      " Counter({'PERSON': 2173, 'ORG': 1374, 'DATE': 787, 'CARDINAL': 723, 'GPE': 554, 'WORK_OF_ART': 507, 'NORP': 328, 'ORDINAL': 254, 'LOC': 92, 'EVENT': 90, 'PRODUCT': 74, 'TIME': 64, 'LANGUAGE': 61, 'FAC': 58, 'MONEY': 22, 'PERCENT': 12, 'LAW': 11, 'QUANTITY': 11})\n"
     ]
    }
   ],
   "source": [
    "# as an example, let's pull the number of:\n",
    "# entities, their unique labels, and most common ones\n",
    "\n",
    "text = '. '.join(df['clean_text'].astype(str))\n",
    "article = nlp(text[:1_000_000]) # nlp limit is 1_000_000 characters\n",
    "print('number of entities:',len(article.ents))\n",
    "\n",
    "labels = [x.label_ for x in article.ents]\n",
    "print('\\n unique labels: \\n',Counter(labels))\n",
    "\n",
    "# uncomment this section to see the most common ones\n",
    "# items = [x.text for x in article.ents]\n",
    "# print('\\n most common words: ',Counter(items).most_common(5))"
   ]
  },
  {
   "cell_type": "markdown",
   "id": "apparent-organic",
   "metadata": {},
   "source": [
    "We have 7195 entities, among which 507 books in our first 1M characters, while 462 when using raw text and 343 with clean text. Punctuations, special characters, and numeric values add more books to our list. Let's just take a look at few sentences with a raw mark-up of entities."
   ]
  },
  {
   "cell_type": "code",
   "execution_count": 10,
   "id": "roman-franchise",
   "metadata": {},
   "outputs": [
    {
     "data": {
      "text/html": [
       "<span class=\"tex2jax_ignore\"><div class=\"entities\" style=\"line-height: 2.5; direction: ltr\">[\n",
       "<mark class=\"entity\" style=\"background: #bfe1d9; padding: 0.45em 0.6em; margin: 0 0.25em; line-height: 1; border-radius: 0.35em;\">\n",
       "    This summer\n",
       "    <span style=\"font-size: 0.8em; font-weight: bold; line-height: 1; border-radius: 0.35em; vertical-align: middle; margin-left: 0.5rem\">DATE</span>\n",
       "</mark>\n",
       " i want to change that however and i want to read a full book.; ; I would like to start off with a small book., Not like a full \n",
       "<mark class=\"entity\" style=\"background: #aa9cfc; padding: 0.45em 0.6em; margin: 0 0.25em; line-height: 1; border-radius: 0.35em;\">\n",
       "    Harry Potter\n",
       "    <span style=\"font-size: 0.8em; font-weight: bold; line-height: 1; border-radius: 0.35em; vertical-align: middle; margin-left: 0.5rem\">PERSON</span>\n",
       "</mark>\n",
       " book as thats too much i think., ; ; Ideally i would like a book about ancient \n",
       "<mark class=\"entity\" style=\"background: #feca74; padding: 0.45em 0.6em; margin: 0 0.25em; line-height: 1; border-radius: 0.35em;\">\n",
       "    Rome\n",
       "    <span style=\"font-size: 0.8em; font-weight: bold; line-height: 1; border-radius: 0.35em; vertical-align: middle; margin-left: 0.5rem\">GPE</span>\n",
       "</mark>\n",
       " and it's conquests and wars, though not so much a documentary book but more of a story/drama if that makes any sense., ; ; Help me out Reddit :D. Started a book club., Suggestions?Somehow I became the age of a person that starts book clubs, I’m not sure how this happened.; ; Club members are all women in their \n",
       "<mark class=\"entity\" style=\"background: #bfe1d9; padding: 0.45em 0.6em; margin: 0 0.25em; line-height: 1; border-radius: 0.35em;\">\n",
       "    30s\n",
       "    <span style=\"font-size: 0.8em; font-weight: bold; line-height: 1; border-radius: 0.35em; vertical-align: middle; margin-left: 0.5rem\">DATE</span>\n",
       "</mark>\n",
       " and I think the best genre to complement everyone would be something from \n",
       "<mark class=\"entity\" style=\"background: #7aecec; padding: 0.45em 0.6em; margin: 0 0.25em; line-height: 1; border-radius: 0.35em;\">\n",
       "    the Fantasy/Sci Fi\n",
       "    <span style=\"font-size: 0.8em; font-weight: bold; line-height: 1; border-radius: 0.35em; vertical-align: middle; margin-left: 0.5rem\">ORG</span>\n",
       "</mark>\n",
       " section.]</div></span>"
      ],
      "text/plain": [
       "<IPython.core.display.HTML object>"
      ]
     },
     "metadata": {},
     "output_type": "display_data"
    }
   ],
   "source": [
    "# Selecting one sentence as an example\n",
    "sentences = [x for x in article.sents]\n",
    "\n",
    "# lets now see the raw markup for the sentence above\n",
    "\n",
    "# uncomment the two lines below to change the markup colors \n",
    "# colors = {\"WORK_OF_ART\": \"#fc9ce7\"}\n",
    "# options = {\"ents\": [\"WORK_OF_ART\"], \"colors\": {\"#fc9ce7\"}}\n",
    "\n",
    "displacy.render(nlp(str(sentences[20:25])), jupyter=True, style='ent')"
   ]
  },
  {
   "cell_type": "markdown",
   "id": "reserved-niagara",
   "metadata": {},
   "source": [
    "From our NLP model, Harry Potter was identified as a Person (People, including fictional). We can see how that entity can fall into another category like book (WORK_OF_ART), which tells us that we should pay attention to misclassifications."
   ]
  },
  {
   "cell_type": "code",
   "execution_count": 7,
   "id": "described-cyprus",
   "metadata": {},
   "outputs": [],
   "source": [
    "# uncomment to visualize the entire article \n",
    "# visualizing the entire article\n",
    "# displacy.render(article, jupyter=True, style='ent')\n",
    "\n",
    "# uncomment to see the list of each word with its entity name\n",
    "# dict([(str(x), x.label_) for x in article.ents])"
   ]
  },
  {
   "attachments": {
    "image.png": {
     "image/png": "[encoded data removed]"
    }
   },
   "cell_type": "markdown",
   "id": "written-capacity",
   "metadata": {},
   "source": [
    "    Entities with corresponding description:\n",
    "\n",
    "![image.png](attachment:image.png)"
   ]
  },
  {
   "cell_type": "markdown",
   "id": "blank-shanghai",
   "metadata": {},
   "source": [
    "Here is the dependency of one sentence from above. I use displaCy, a visualizer from spaCy that uses JavaScript, SVG, and CSS to show us how computers understand human language."
   ]
  },
  {
   "cell_type": "code",
   "execution_count": 11,
   "id": "isolated-present",
   "metadata": {},
   "outputs": [
    {
     "data": {
      "text/html": [
       "<span class=\"tex2jax_ignore\"><svg xmlns=\"http://www.w3.org/2000/svg\" xmlns:xlink=\"http://www.w3.org/1999/xlink\" xml:lang=\"en\" id=\"2f27579c22c64c069f2665bb443082be-0\" class=\"displacy\" width=\"3170\" height=\"497.0\" direction=\"ltr\" style=\"max-width: none; height: 497.0px; color: #000000; background: #ffffff; font-family: Arial; direction: ltr\">\n",
       "<text class=\"displacy-token\" fill=\"currentColor\" text-anchor=\"middle\" y=\"407.0\">\n",
       "    <tspan class=\"displacy-word\" fill=\"currentColor\" x=\"50\">This</tspan>\n",
       "    <tspan class=\"displacy-tag\" dy=\"2em\" fill=\"currentColor\" x=\"50\">DET</tspan>\n",
       "</text>\n",
       "\n",
       "<text class=\"displacy-token\" fill=\"currentColor\" text-anchor=\"middle\" y=\"407.0\">\n",
       "    <tspan class=\"displacy-word\" fill=\"currentColor\" x=\"170\">summer</tspan>\n",
       "    <tspan class=\"displacy-tag\" dy=\"2em\" fill=\"currentColor\" x=\"170\">NOUN</tspan>\n",
       "</text>\n",
       "\n",
       "<text class=\"displacy-token\" fill=\"currentColor\" text-anchor=\"middle\" y=\"407.0\">\n",
       "    <tspan class=\"displacy-word\" fill=\"currentColor\" x=\"290\">i</tspan>\n",
       "    <tspan class=\"displacy-tag\" dy=\"2em\" fill=\"currentColor\" x=\"290\">PRON</tspan>\n",
       "</text>\n",
       "\n",
       "<text class=\"displacy-token\" fill=\"currentColor\" text-anchor=\"middle\" y=\"407.0\">\n",
       "    <tspan class=\"displacy-word\" fill=\"currentColor\" x=\"410\">want</tspan>\n",
       "    <tspan class=\"displacy-tag\" dy=\"2em\" fill=\"currentColor\" x=\"410\">VERB</tspan>\n",
       "</text>\n",
       "\n",
       "<text class=\"displacy-token\" fill=\"currentColor\" text-anchor=\"middle\" y=\"407.0\">\n",
       "    <tspan class=\"displacy-word\" fill=\"currentColor\" x=\"530\">to</tspan>\n",
       "    <tspan class=\"displacy-tag\" dy=\"2em\" fill=\"currentColor\" x=\"530\">PART</tspan>\n",
       "</text>\n",
       "\n",
       "<text class=\"displacy-token\" fill=\"currentColor\" text-anchor=\"middle\" y=\"407.0\">\n",
       "    <tspan class=\"displacy-word\" fill=\"currentColor\" x=\"650\">change</tspan>\n",
       "    <tspan class=\"displacy-tag\" dy=\"2em\" fill=\"currentColor\" x=\"650\">VERB</tspan>\n",
       "</text>\n",
       "\n",
       "<text class=\"displacy-token\" fill=\"currentColor\" text-anchor=\"middle\" y=\"407.0\">\n",
       "    <tspan class=\"displacy-word\" fill=\"currentColor\" x=\"770\">that</tspan>\n",
       "    <tspan class=\"displacy-tag\" dy=\"2em\" fill=\"currentColor\" x=\"770\">DET</tspan>\n",
       "</text>\n",
       "\n",
       "<text class=\"displacy-token\" fill=\"currentColor\" text-anchor=\"middle\" y=\"407.0\">\n",
       "    <tspan class=\"displacy-word\" fill=\"currentColor\" x=\"890\">however</tspan>\n",
       "    <tspan class=\"displacy-tag\" dy=\"2em\" fill=\"currentColor\" x=\"890\">ADV</tspan>\n",
       "</text>\n",
       "\n",
       "<text class=\"displacy-token\" fill=\"currentColor\" text-anchor=\"middle\" y=\"407.0\">\n",
       "    <tspan class=\"displacy-word\" fill=\"currentColor\" x=\"1010\">and</tspan>\n",
       "    <tspan class=\"displacy-tag\" dy=\"2em\" fill=\"currentColor\" x=\"1010\">CCONJ</tspan>\n",
       "</text>\n",
       "\n",
       "<text class=\"displacy-token\" fill=\"currentColor\" text-anchor=\"middle\" y=\"407.0\">\n",
       "    <tspan class=\"displacy-word\" fill=\"currentColor\" x=\"1130\">i</tspan>\n",
       "    <tspan class=\"displacy-tag\" dy=\"2em\" fill=\"currentColor\" x=\"1130\">PRON</tspan>\n",
       "</text>\n",
       "\n",
       "<text class=\"displacy-token\" fill=\"currentColor\" text-anchor=\"middle\" y=\"407.0\">\n",
       "    <tspan class=\"displacy-word\" fill=\"currentColor\" x=\"1250\">want</tspan>\n",
       "    <tspan class=\"displacy-tag\" dy=\"2em\" fill=\"currentColor\" x=\"1250\">VERB</tspan>\n",
       "</text>\n",
       "\n",
       "<text class=\"displacy-token\" fill=\"currentColor\" text-anchor=\"middle\" y=\"407.0\">\n",
       "    <tspan class=\"displacy-word\" fill=\"currentColor\" x=\"1370\">to</tspan>\n",
       "    <tspan class=\"displacy-tag\" dy=\"2em\" fill=\"currentColor\" x=\"1370\">PART</tspan>\n",
       "</text>\n",
       "\n",
       "<text class=\"displacy-token\" fill=\"currentColor\" text-anchor=\"middle\" y=\"407.0\">\n",
       "    <tspan class=\"displacy-word\" fill=\"currentColor\" x=\"1490\">read</tspan>\n",
       "    <tspan class=\"displacy-tag\" dy=\"2em\" fill=\"currentColor\" x=\"1490\">VERB</tspan>\n",
       "</text>\n",
       "\n",
       "<text class=\"displacy-token\" fill=\"currentColor\" text-anchor=\"middle\" y=\"407.0\">\n",
       "    <tspan class=\"displacy-word\" fill=\"currentColor\" x=\"1610\">a</tspan>\n",
       "    <tspan class=\"displacy-tag\" dy=\"2em\" fill=\"currentColor\" x=\"1610\">DET</tspan>\n",
       "</text>\n",
       "\n",
       "<text class=\"displacy-token\" fill=\"currentColor\" text-anchor=\"middle\" y=\"407.0\">\n",
       "    <tspan class=\"displacy-word\" fill=\"currentColor\" x=\"1730\">full</tspan>\n",
       "    <tspan class=\"displacy-tag\" dy=\"2em\" fill=\"currentColor\" x=\"1730\">ADJ</tspan>\n",
       "</text>\n",
       "\n",
       "<text class=\"displacy-token\" fill=\"currentColor\" text-anchor=\"middle\" y=\"407.0\">\n",
       "    <tspan class=\"displacy-word\" fill=\"currentColor\" x=\"1850\">book.; ;</tspan>\n",
       "    <tspan class=\"displacy-tag\" dy=\"2em\" fill=\"currentColor\" x=\"1850\">NOUN</tspan>\n",
       "</text>\n",
       "\n",
       "<text class=\"displacy-token\" fill=\"currentColor\" text-anchor=\"middle\" y=\"407.0\">\n",
       "    <tspan class=\"displacy-word\" fill=\"currentColor\" x=\"1970\">I</tspan>\n",
       "    <tspan class=\"displacy-tag\" dy=\"2em\" fill=\"currentColor\" x=\"1970\">PRON</tspan>\n",
       "</text>\n",
       "\n",
       "<text class=\"displacy-token\" fill=\"currentColor\" text-anchor=\"middle\" y=\"407.0\">\n",
       "    <tspan class=\"displacy-word\" fill=\"currentColor\" x=\"2090\">would</tspan>\n",
       "    <tspan class=\"displacy-tag\" dy=\"2em\" fill=\"currentColor\" x=\"2090\">AUX</tspan>\n",
       "</text>\n",
       "\n",
       "<text class=\"displacy-token\" fill=\"currentColor\" text-anchor=\"middle\" y=\"407.0\">\n",
       "    <tspan class=\"displacy-word\" fill=\"currentColor\" x=\"2210\">like</tspan>\n",
       "    <tspan class=\"displacy-tag\" dy=\"2em\" fill=\"currentColor\" x=\"2210\">VERB</tspan>\n",
       "</text>\n",
       "\n",
       "<text class=\"displacy-token\" fill=\"currentColor\" text-anchor=\"middle\" y=\"407.0\">\n",
       "    <tspan class=\"displacy-word\" fill=\"currentColor\" x=\"2330\">to</tspan>\n",
       "    <tspan class=\"displacy-tag\" dy=\"2em\" fill=\"currentColor\" x=\"2330\">PART</tspan>\n",
       "</text>\n",
       "\n",
       "<text class=\"displacy-token\" fill=\"currentColor\" text-anchor=\"middle\" y=\"407.0\">\n",
       "    <tspan class=\"displacy-word\" fill=\"currentColor\" x=\"2450\">start</tspan>\n",
       "    <tspan class=\"displacy-tag\" dy=\"2em\" fill=\"currentColor\" x=\"2450\">VERB</tspan>\n",
       "</text>\n",
       "\n",
       "<text class=\"displacy-token\" fill=\"currentColor\" text-anchor=\"middle\" y=\"407.0\">\n",
       "    <tspan class=\"displacy-word\" fill=\"currentColor\" x=\"2570\">off</tspan>\n",
       "    <tspan class=\"displacy-tag\" dy=\"2em\" fill=\"currentColor\" x=\"2570\">ADP</tspan>\n",
       "</text>\n",
       "\n",
       "<text class=\"displacy-token\" fill=\"currentColor\" text-anchor=\"middle\" y=\"407.0\">\n",
       "    <tspan class=\"displacy-word\" fill=\"currentColor\" x=\"2690\">with</tspan>\n",
       "    <tspan class=\"displacy-tag\" dy=\"2em\" fill=\"currentColor\" x=\"2690\">ADP</tspan>\n",
       "</text>\n",
       "\n",
       "<text class=\"displacy-token\" fill=\"currentColor\" text-anchor=\"middle\" y=\"407.0\">\n",
       "    <tspan class=\"displacy-word\" fill=\"currentColor\" x=\"2810\">a</tspan>\n",
       "    <tspan class=\"displacy-tag\" dy=\"2em\" fill=\"currentColor\" x=\"2810\">DET</tspan>\n",
       "</text>\n",
       "\n",
       "<text class=\"displacy-token\" fill=\"currentColor\" text-anchor=\"middle\" y=\"407.0\">\n",
       "    <tspan class=\"displacy-word\" fill=\"currentColor\" x=\"2930\">small</tspan>\n",
       "    <tspan class=\"displacy-tag\" dy=\"2em\" fill=\"currentColor\" x=\"2930\">ADJ</tspan>\n",
       "</text>\n",
       "\n",
       "<text class=\"displacy-token\" fill=\"currentColor\" text-anchor=\"middle\" y=\"407.0\">\n",
       "    <tspan class=\"displacy-word\" fill=\"currentColor\" x=\"3050\">book.</tspan>\n",
       "    <tspan class=\"displacy-tag\" dy=\"2em\" fill=\"currentColor\" x=\"3050\">NOUN</tspan>\n",
       "</text>\n",
       "\n",
       "<g class=\"displacy-arrow\">\n",
       "    <path class=\"displacy-arc\" id=\"arrow-2f27579c22c64c069f2665bb443082be-0-0\" stroke-width=\"2px\" d=\"M70,362.0 C70,302.0 145.0,302.0 145.0,362.0\" fill=\"none\" stroke=\"currentColor\"/>\n",
       "    <text dy=\"1.25em\" style=\"font-size: 0.8em; letter-spacing: 1px\">\n",
       "        <textPath xlink:href=\"#arrow-2f27579c22c64c069f2665bb443082be-0-0\" class=\"displacy-label\" startOffset=\"50%\" side=\"left\" fill=\"currentColor\" text-anchor=\"middle\">det</textPath>\n",
       "    </text>\n",
       "    <path class=\"displacy-arrowhead\" d=\"M70,364.0 L62,352.0 78,352.0\" fill=\"currentColor\"/>\n",
       "</g>\n",
       "\n",
       "<g class=\"displacy-arrow\">\n",
       "    <path class=\"displacy-arc\" id=\"arrow-2f27579c22c64c069f2665bb443082be-0-1\" stroke-width=\"2px\" d=\"M190,362.0 C190,242.0 390.0,242.0 390.0,362.0\" fill=\"none\" stroke=\"currentColor\"/>\n",
       "    <text dy=\"1.25em\" style=\"font-size: 0.8em; letter-spacing: 1px\">\n",
       "        <textPath xlink:href=\"#arrow-2f27579c22c64c069f2665bb443082be-0-1\" class=\"displacy-label\" startOffset=\"50%\" side=\"left\" fill=\"currentColor\" text-anchor=\"middle\">npadvmod</textPath>\n",
       "    </text>\n",
       "    <path class=\"displacy-arrowhead\" d=\"M190,364.0 L182,352.0 198,352.0\" fill=\"currentColor\"/>\n",
       "</g>\n",
       "\n",
       "<g class=\"displacy-arrow\">\n",
       "    <path class=\"displacy-arc\" id=\"arrow-2f27579c22c64c069f2665bb443082be-0-2\" stroke-width=\"2px\" d=\"M310,362.0 C310,302.0 385.0,302.0 385.0,362.0\" fill=\"none\" stroke=\"currentColor\"/>\n",
       "    <text dy=\"1.25em\" style=\"font-size: 0.8em; letter-spacing: 1px\">\n",
       "        <textPath xlink:href=\"#arrow-2f27579c22c64c069f2665bb443082be-0-2\" class=\"displacy-label\" startOffset=\"50%\" side=\"left\" fill=\"currentColor\" text-anchor=\"middle\">nsubj</textPath>\n",
       "    </text>\n",
       "    <path class=\"displacy-arrowhead\" d=\"M310,364.0 L302,352.0 318,352.0\" fill=\"currentColor\"/>\n",
       "</g>\n",
       "\n",
       "<g class=\"displacy-arrow\">\n",
       "    <path class=\"displacy-arc\" id=\"arrow-2f27579c22c64c069f2665bb443082be-0-3\" stroke-width=\"2px\" d=\"M430,362.0 C430,2.0 2210.0,2.0 2210.0,362.0\" fill=\"none\" stroke=\"currentColor\"/>\n",
       "    <text dy=\"1.25em\" style=\"font-size: 0.8em; letter-spacing: 1px\">\n",
       "        <textPath xlink:href=\"#arrow-2f27579c22c64c069f2665bb443082be-0-3\" class=\"displacy-label\" startOffset=\"50%\" side=\"left\" fill=\"currentColor\" text-anchor=\"middle\">ccomp</textPath>\n",
       "    </text>\n",
       "    <path class=\"displacy-arrowhead\" d=\"M430,364.0 L422,352.0 438,352.0\" fill=\"currentColor\"/>\n",
       "</g>\n",
       "\n",
       "<g class=\"displacy-arrow\">\n",
       "    <path class=\"displacy-arc\" id=\"arrow-2f27579c22c64c069f2665bb443082be-0-4\" stroke-width=\"2px\" d=\"M550,362.0 C550,302.0 625.0,302.0 625.0,362.0\" fill=\"none\" stroke=\"currentColor\"/>\n",
       "    <text dy=\"1.25em\" style=\"font-size: 0.8em; letter-spacing: 1px\">\n",
       "        <textPath xlink:href=\"#arrow-2f27579c22c64c069f2665bb443082be-0-4\" class=\"displacy-label\" startOffset=\"50%\" side=\"left\" fill=\"currentColor\" text-anchor=\"middle\">aux</textPath>\n",
       "    </text>\n",
       "    <path class=\"displacy-arrowhead\" d=\"M550,364.0 L542,352.0 558,352.0\" fill=\"currentColor\"/>\n",
       "</g>\n",
       "\n",
       "<g class=\"displacy-arrow\">\n",
       "    <path class=\"displacy-arc\" id=\"arrow-2f27579c22c64c069f2665bb443082be-0-5\" stroke-width=\"2px\" d=\"M430,362.0 C430,242.0 630.0,242.0 630.0,362.0\" fill=\"none\" stroke=\"currentColor\"/>\n",
       "    <text dy=\"1.25em\" style=\"font-size: 0.8em; letter-spacing: 1px\">\n",
       "        <textPath xlink:href=\"#arrow-2f27579c22c64c069f2665bb443082be-0-5\" class=\"displacy-label\" startOffset=\"50%\" side=\"left\" fill=\"currentColor\" text-anchor=\"middle\">xcomp</textPath>\n",
       "    </text>\n",
       "    <path class=\"displacy-arrowhead\" d=\"M630.0,364.0 L638.0,352.0 622.0,352.0\" fill=\"currentColor\"/>\n",
       "</g>\n",
       "\n",
       "<g class=\"displacy-arrow\">\n",
       "    <path class=\"displacy-arc\" id=\"arrow-2f27579c22c64c069f2665bb443082be-0-6\" stroke-width=\"2px\" d=\"M670,362.0 C670,302.0 745.0,302.0 745.0,362.0\" fill=\"none\" stroke=\"currentColor\"/>\n",
       "    <text dy=\"1.25em\" style=\"font-size: 0.8em; letter-spacing: 1px\">\n",
       "        <textPath xlink:href=\"#arrow-2f27579c22c64c069f2665bb443082be-0-6\" class=\"displacy-label\" startOffset=\"50%\" side=\"left\" fill=\"currentColor\" text-anchor=\"middle\">dobj</textPath>\n",
       "    </text>\n",
       "    <path class=\"displacy-arrowhead\" d=\"M745.0,364.0 L753.0,352.0 737.0,352.0\" fill=\"currentColor\"/>\n",
       "</g>\n",
       "\n",
       "<g class=\"displacy-arrow\">\n",
       "    <path class=\"displacy-arc\" id=\"arrow-2f27579c22c64c069f2665bb443082be-0-7\" stroke-width=\"2px\" d=\"M670,362.0 C670,242.0 870.0,242.0 870.0,362.0\" fill=\"none\" stroke=\"currentColor\"/>\n",
       "    <text dy=\"1.25em\" style=\"font-size: 0.8em; letter-spacing: 1px\">\n",
       "        <textPath xlink:href=\"#arrow-2f27579c22c64c069f2665bb443082be-0-7\" class=\"displacy-label\" startOffset=\"50%\" side=\"left\" fill=\"currentColor\" text-anchor=\"middle\">advmod</textPath>\n",
       "    </text>\n",
       "    <path class=\"displacy-arrowhead\" d=\"M870.0,364.0 L878.0,352.0 862.0,352.0\" fill=\"currentColor\"/>\n",
       "</g>\n",
       "\n",
       "<g class=\"displacy-arrow\">\n",
       "    <path class=\"displacy-arc\" id=\"arrow-2f27579c22c64c069f2665bb443082be-0-8\" stroke-width=\"2px\" d=\"M430,362.0 C430,122.0 1000.0,122.0 1000.0,362.0\" fill=\"none\" stroke=\"currentColor\"/>\n",
       "    <text dy=\"1.25em\" style=\"font-size: 0.8em; letter-spacing: 1px\">\n",
       "        <textPath xlink:href=\"#arrow-2f27579c22c64c069f2665bb443082be-0-8\" class=\"displacy-label\" startOffset=\"50%\" side=\"left\" fill=\"currentColor\" text-anchor=\"middle\">cc</textPath>\n",
       "    </text>\n",
       "    <path class=\"displacy-arrowhead\" d=\"M1000.0,364.0 L1008.0,352.0 992.0,352.0\" fill=\"currentColor\"/>\n",
       "</g>\n",
       "\n",
       "<g class=\"displacy-arrow\">\n",
       "    <path class=\"displacy-arc\" id=\"arrow-2f27579c22c64c069f2665bb443082be-0-9\" stroke-width=\"2px\" d=\"M1150,362.0 C1150,302.0 1225.0,302.0 1225.0,362.0\" fill=\"none\" stroke=\"currentColor\"/>\n",
       "    <text dy=\"1.25em\" style=\"font-size: 0.8em; letter-spacing: 1px\">\n",
       "        <textPath xlink:href=\"#arrow-2f27579c22c64c069f2665bb443082be-0-9\" class=\"displacy-label\" startOffset=\"50%\" side=\"left\" fill=\"currentColor\" text-anchor=\"middle\">nsubj</textPath>\n",
       "    </text>\n",
       "    <path class=\"displacy-arrowhead\" d=\"M1150,364.0 L1142,352.0 1158,352.0\" fill=\"currentColor\"/>\n",
       "</g>\n",
       "\n",
       "<g class=\"displacy-arrow\">\n",
       "    <path class=\"displacy-arc\" id=\"arrow-2f27579c22c64c069f2665bb443082be-0-10\" stroke-width=\"2px\" d=\"M430,362.0 C430,62.0 1245.0,62.0 1245.0,362.0\" fill=\"none\" stroke=\"currentColor\"/>\n",
       "    <text dy=\"1.25em\" style=\"font-size: 0.8em; letter-spacing: 1px\">\n",
       "        <textPath xlink:href=\"#arrow-2f27579c22c64c069f2665bb443082be-0-10\" class=\"displacy-label\" startOffset=\"50%\" side=\"left\" fill=\"currentColor\" text-anchor=\"middle\">conj</textPath>\n",
       "    </text>\n",
       "    <path class=\"displacy-arrowhead\" d=\"M1245.0,364.0 L1253.0,352.0 1237.0,352.0\" fill=\"currentColor\"/>\n",
       "</g>\n",
       "\n",
       "<g class=\"displacy-arrow\">\n",
       "    <path class=\"displacy-arc\" id=\"arrow-2f27579c22c64c069f2665bb443082be-0-11\" stroke-width=\"2px\" d=\"M1390,362.0 C1390,302.0 1465.0,302.0 1465.0,362.0\" fill=\"none\" stroke=\"currentColor\"/>\n",
       "    <text dy=\"1.25em\" style=\"font-size: 0.8em; letter-spacing: 1px\">\n",
       "        <textPath xlink:href=\"#arrow-2f27579c22c64c069f2665bb443082be-0-11\" class=\"displacy-label\" startOffset=\"50%\" side=\"left\" fill=\"currentColor\" text-anchor=\"middle\">aux</textPath>\n",
       "    </text>\n",
       "    <path class=\"displacy-arrowhead\" d=\"M1390,364.0 L1382,352.0 1398,352.0\" fill=\"currentColor\"/>\n",
       "</g>\n",
       "\n",
       "<g class=\"displacy-arrow\">\n",
       "    <path class=\"displacy-arc\" id=\"arrow-2f27579c22c64c069f2665bb443082be-0-12\" stroke-width=\"2px\" d=\"M1270,362.0 C1270,242.0 1470.0,242.0 1470.0,362.0\" fill=\"none\" stroke=\"currentColor\"/>\n",
       "    <text dy=\"1.25em\" style=\"font-size: 0.8em; letter-spacing: 1px\">\n",
       "        <textPath xlink:href=\"#arrow-2f27579c22c64c069f2665bb443082be-0-12\" class=\"displacy-label\" startOffset=\"50%\" side=\"left\" fill=\"currentColor\" text-anchor=\"middle\">xcomp</textPath>\n",
       "    </text>\n",
       "    <path class=\"displacy-arrowhead\" d=\"M1470.0,364.0 L1478.0,352.0 1462.0,352.0\" fill=\"currentColor\"/>\n",
       "</g>\n",
       "\n",
       "<g class=\"displacy-arrow\">\n",
       "    <path class=\"displacy-arc\" id=\"arrow-2f27579c22c64c069f2665bb443082be-0-13\" stroke-width=\"2px\" d=\"M1630,362.0 C1630,242.0 1830.0,242.0 1830.0,362.0\" fill=\"none\" stroke=\"currentColor\"/>\n",
       "    <text dy=\"1.25em\" style=\"font-size: 0.8em; letter-spacing: 1px\">\n",
       "        <textPath xlink:href=\"#arrow-2f27579c22c64c069f2665bb443082be-0-13\" class=\"displacy-label\" startOffset=\"50%\" side=\"left\" fill=\"currentColor\" text-anchor=\"middle\">det</textPath>\n",
       "    </text>\n",
       "    <path class=\"displacy-arrowhead\" d=\"M1630,364.0 L1622,352.0 1638,352.0\" fill=\"currentColor\"/>\n",
       "</g>\n",
       "\n",
       "<g class=\"displacy-arrow\">\n",
       "    <path class=\"displacy-arc\" id=\"arrow-2f27579c22c64c069f2665bb443082be-0-14\" stroke-width=\"2px\" d=\"M1750,362.0 C1750,302.0 1825.0,302.0 1825.0,362.0\" fill=\"none\" stroke=\"currentColor\"/>\n",
       "    <text dy=\"1.25em\" style=\"font-size: 0.8em; letter-spacing: 1px\">\n",
       "        <textPath xlink:href=\"#arrow-2f27579c22c64c069f2665bb443082be-0-14\" class=\"displacy-label\" startOffset=\"50%\" side=\"left\" fill=\"currentColor\" text-anchor=\"middle\">amod</textPath>\n",
       "    </text>\n",
       "    <path class=\"displacy-arrowhead\" d=\"M1750,364.0 L1742,352.0 1758,352.0\" fill=\"currentColor\"/>\n",
       "</g>\n",
       "\n",
       "<g class=\"displacy-arrow\">\n",
       "    <path class=\"displacy-arc\" id=\"arrow-2f27579c22c64c069f2665bb443082be-0-15\" stroke-width=\"2px\" d=\"M1510,362.0 C1510,182.0 1835.0,182.0 1835.0,362.0\" fill=\"none\" stroke=\"currentColor\"/>\n",
       "    <text dy=\"1.25em\" style=\"font-size: 0.8em; letter-spacing: 1px\">\n",
       "        <textPath xlink:href=\"#arrow-2f27579c22c64c069f2665bb443082be-0-15\" class=\"displacy-label\" startOffset=\"50%\" side=\"left\" fill=\"currentColor\" text-anchor=\"middle\">dobj</textPath>\n",
       "    </text>\n",
       "    <path class=\"displacy-arrowhead\" d=\"M1835.0,364.0 L1843.0,352.0 1827.0,352.0\" fill=\"currentColor\"/>\n",
       "</g>\n",
       "\n",
       "<g class=\"displacy-arrow\">\n",
       "    <path class=\"displacy-arc\" id=\"arrow-2f27579c22c64c069f2665bb443082be-0-16\" stroke-width=\"2px\" d=\"M1990,362.0 C1990,242.0 2190.0,242.0 2190.0,362.0\" fill=\"none\" stroke=\"currentColor\"/>\n",
       "    <text dy=\"1.25em\" style=\"font-size: 0.8em; letter-spacing: 1px\">\n",
       "        <textPath xlink:href=\"#arrow-2f27579c22c64c069f2665bb443082be-0-16\" class=\"displacy-label\" startOffset=\"50%\" side=\"left\" fill=\"currentColor\" text-anchor=\"middle\">nsubj</textPath>\n",
       "    </text>\n",
       "    <path class=\"displacy-arrowhead\" d=\"M1990,364.0 L1982,352.0 1998,352.0\" fill=\"currentColor\"/>\n",
       "</g>\n",
       "\n",
       "<g class=\"displacy-arrow\">\n",
       "    <path class=\"displacy-arc\" id=\"arrow-2f27579c22c64c069f2665bb443082be-0-17\" stroke-width=\"2px\" d=\"M2110,362.0 C2110,302.0 2185.0,302.0 2185.0,362.0\" fill=\"none\" stroke=\"currentColor\"/>\n",
       "    <text dy=\"1.25em\" style=\"font-size: 0.8em; letter-spacing: 1px\">\n",
       "        <textPath xlink:href=\"#arrow-2f27579c22c64c069f2665bb443082be-0-17\" class=\"displacy-label\" startOffset=\"50%\" side=\"left\" fill=\"currentColor\" text-anchor=\"middle\">aux</textPath>\n",
       "    </text>\n",
       "    <path class=\"displacy-arrowhead\" d=\"M2110,364.0 L2102,352.0 2118,352.0\" fill=\"currentColor\"/>\n",
       "</g>\n",
       "\n",
       "<g class=\"displacy-arrow\">\n",
       "    <path class=\"displacy-arc\" id=\"arrow-2f27579c22c64c069f2665bb443082be-0-18\" stroke-width=\"2px\" d=\"M2350,362.0 C2350,302.0 2425.0,302.0 2425.0,362.0\" fill=\"none\" stroke=\"currentColor\"/>\n",
       "    <text dy=\"1.25em\" style=\"font-size: 0.8em; letter-spacing: 1px\">\n",
       "        <textPath xlink:href=\"#arrow-2f27579c22c64c069f2665bb443082be-0-18\" class=\"displacy-label\" startOffset=\"50%\" side=\"left\" fill=\"currentColor\" text-anchor=\"middle\">aux</textPath>\n",
       "    </text>\n",
       "    <path class=\"displacy-arrowhead\" d=\"M2350,364.0 L2342,352.0 2358,352.0\" fill=\"currentColor\"/>\n",
       "</g>\n",
       "\n",
       "<g class=\"displacy-arrow\">\n",
       "    <path class=\"displacy-arc\" id=\"arrow-2f27579c22c64c069f2665bb443082be-0-19\" stroke-width=\"2px\" d=\"M2230,362.0 C2230,242.0 2430.0,242.0 2430.0,362.0\" fill=\"none\" stroke=\"currentColor\"/>\n",
       "    <text dy=\"1.25em\" style=\"font-size: 0.8em; letter-spacing: 1px\">\n",
       "        <textPath xlink:href=\"#arrow-2f27579c22c64c069f2665bb443082be-0-19\" class=\"displacy-label\" startOffset=\"50%\" side=\"left\" fill=\"currentColor\" text-anchor=\"middle\">xcomp</textPath>\n",
       "    </text>\n",
       "    <path class=\"displacy-arrowhead\" d=\"M2430.0,364.0 L2438.0,352.0 2422.0,352.0\" fill=\"currentColor\"/>\n",
       "</g>\n",
       "\n",
       "<g class=\"displacy-arrow\">\n",
       "    <path class=\"displacy-arc\" id=\"arrow-2f27579c22c64c069f2665bb443082be-0-20\" stroke-width=\"2px\" d=\"M2470,362.0 C2470,302.0 2545.0,302.0 2545.0,362.0\" fill=\"none\" stroke=\"currentColor\"/>\n",
       "    <text dy=\"1.25em\" style=\"font-size: 0.8em; letter-spacing: 1px\">\n",
       "        <textPath xlink:href=\"#arrow-2f27579c22c64c069f2665bb443082be-0-20\" class=\"displacy-label\" startOffset=\"50%\" side=\"left\" fill=\"currentColor\" text-anchor=\"middle\">prt</textPath>\n",
       "    </text>\n",
       "    <path class=\"displacy-arrowhead\" d=\"M2545.0,364.0 L2553.0,352.0 2537.0,352.0\" fill=\"currentColor\"/>\n",
       "</g>\n",
       "\n",
       "<g class=\"displacy-arrow\">\n",
       "    <path class=\"displacy-arc\" id=\"arrow-2f27579c22c64c069f2665bb443082be-0-21\" stroke-width=\"2px\" d=\"M2470,362.0 C2470,242.0 2670.0,242.0 2670.0,362.0\" fill=\"none\" stroke=\"currentColor\"/>\n",
       "    <text dy=\"1.25em\" style=\"font-size: 0.8em; letter-spacing: 1px\">\n",
       "        <textPath xlink:href=\"#arrow-2f27579c22c64c069f2665bb443082be-0-21\" class=\"displacy-label\" startOffset=\"50%\" side=\"left\" fill=\"currentColor\" text-anchor=\"middle\">prep</textPath>\n",
       "    </text>\n",
       "    <path class=\"displacy-arrowhead\" d=\"M2670.0,364.0 L2678.0,352.0 2662.0,352.0\" fill=\"currentColor\"/>\n",
       "</g>\n",
       "\n",
       "<g class=\"displacy-arrow\">\n",
       "    <path class=\"displacy-arc\" id=\"arrow-2f27579c22c64c069f2665bb443082be-0-22\" stroke-width=\"2px\" d=\"M2830,362.0 C2830,242.0 3030.0,242.0 3030.0,362.0\" fill=\"none\" stroke=\"currentColor\"/>\n",
       "    <text dy=\"1.25em\" style=\"font-size: 0.8em; letter-spacing: 1px\">\n",
       "        <textPath xlink:href=\"#arrow-2f27579c22c64c069f2665bb443082be-0-22\" class=\"displacy-label\" startOffset=\"50%\" side=\"left\" fill=\"currentColor\" text-anchor=\"middle\">det</textPath>\n",
       "    </text>\n",
       "    <path class=\"displacy-arrowhead\" d=\"M2830,364.0 L2822,352.0 2838,352.0\" fill=\"currentColor\"/>\n",
       "</g>\n",
       "\n",
       "<g class=\"displacy-arrow\">\n",
       "    <path class=\"displacy-arc\" id=\"arrow-2f27579c22c64c069f2665bb443082be-0-23\" stroke-width=\"2px\" d=\"M2950,362.0 C2950,302.0 3025.0,302.0 3025.0,362.0\" fill=\"none\" stroke=\"currentColor\"/>\n",
       "    <text dy=\"1.25em\" style=\"font-size: 0.8em; letter-spacing: 1px\">\n",
       "        <textPath xlink:href=\"#arrow-2f27579c22c64c069f2665bb443082be-0-23\" class=\"displacy-label\" startOffset=\"50%\" side=\"left\" fill=\"currentColor\" text-anchor=\"middle\">amod</textPath>\n",
       "    </text>\n",
       "    <path class=\"displacy-arrowhead\" d=\"M2950,364.0 L2942,352.0 2958,352.0\" fill=\"currentColor\"/>\n",
       "</g>\n",
       "\n",
       "<g class=\"displacy-arrow\">\n",
       "    <path class=\"displacy-arc\" id=\"arrow-2f27579c22c64c069f2665bb443082be-0-24\" stroke-width=\"2px\" d=\"M2710,362.0 C2710,182.0 3035.0,182.0 3035.0,362.0\" fill=\"none\" stroke=\"currentColor\"/>\n",
       "    <text dy=\"1.25em\" style=\"font-size: 0.8em; letter-spacing: 1px\">\n",
       "        <textPath xlink:href=\"#arrow-2f27579c22c64c069f2665bb443082be-0-24\" class=\"displacy-label\" startOffset=\"50%\" side=\"left\" fill=\"currentColor\" text-anchor=\"middle\">pobj</textPath>\n",
       "    </text>\n",
       "    <path class=\"displacy-arrowhead\" d=\"M3035.0,364.0 L3043.0,352.0 3027.0,352.0\" fill=\"currentColor\"/>\n",
       "</g>\n",
       "</svg></span>"
      ],
      "text/plain": [
       "<IPython.core.display.HTML object>"
      ]
     },
     "metadata": {},
     "output_type": "display_data"
    }
   ],
   "source": [
    "# display the dependency for the above sentence\n",
    "displacy.render(nlp(str(sentences[20])), \n",
    "                style='dep', jupyter = True, options = {'distance': 120})\n"
   ]
  },
  {
   "cell_type": "markdown",
   "id": "useful-rapid",
   "metadata": {},
   "source": [
    "From the sample of 1M characters we've used to analyze our text, here is the list of the top 10 books."
   ]
  },
  {
   "cell_type": "code",
   "execution_count": 12,
   "id": "local-champagne",
   "metadata": {},
   "outputs": [
    {
     "data": {
      "image/png": "[encoded data removed]",
      "text/plain": [
       "<Figure size 432x288 with 1 Axes>"
      ]
     },
     "metadata": {},
     "output_type": "display_data"
    }
   ],
   "source": [
    "# plotting the list of books into a data frame\n",
    "\n",
    "books_sample_1 =  pd.DataFrame([str(x) for x in article.ents if x.label_ in ('WORK_OF_ART')])\n",
    "books_sample_1.rename(columns = {0: 'book_list'}, inplace=True)\n",
    "books_sample_1.value_counts(\n",
    "    ascending=False)[:10].plot(kind='barh').invert_yaxis()\n",
    "plt.ylabel('books')\n",
    "plt.xlabel('Count')\n",
    "plt.title('Top 10 Books (Sample)');"
   ]
  },
  {
   "cell_type": "markdown",
   "id": "binary-siemens",
   "metadata": {},
   "source": [
    "Books tend to have the pattern of being in a title format (every first letter is an upper case), which spaCy handles well. One extension of this work will be to set up an entity detection based on such a pattern to see if there is any improvement. Next, we go back to our main data to retrieve books from each row."
   ]
  },
  {
   "cell_type": "code",
   "execution_count": 17,
   "id": "competitive-findings",
   "metadata": {},
   "outputs": [
    {
     "data": {
      "text/html": [
       "<div>\n",
       "<style scoped>\n",
       "    .dataframe tbody tr th:only-of-type {\n",
       "        vertical-align: middle;\n",
       "    }\n",
       "\n",
       "    .dataframe tbody tr th {\n",
       "        vertical-align: top;\n",
       "    }\n",
       "\n",
       "    .dataframe thead th {\n",
       "        text-align: right;\n",
       "    }\n",
       "</style>\n",
       "<table border=\"1\" class=\"dataframe\">\n",
       "  <thead>\n",
       "    <tr style=\"text-align: right;\">\n",
       "      <th></th>\n",
       "      <th>clean_text</th>\n",
       "      <th>text_tokens</th>\n",
       "      <th>text_tokens_lemma</th>\n",
       "      <th>tokens_pos_tagged</th>\n",
       "      <th>books_detected</th>\n",
       "    </tr>\n",
       "  </thead>\n",
       "  <tbody>\n",
       "    <tr>\n",
       "      <th>0</th>\n",
       "      <td>Looking for Horror fiction that explores the u...</td>\n",
       "      <td>[Looking, for, Horror, fiction, that, explores...</td>\n",
       "      <td>[Looking, for, Horror, fiction, that, explores...</td>\n",
       "      <td>[(Looking, VBG), (for, IN), (Horror, NNP), (fi...</td>\n",
       "      <td>[]</td>\n",
       "    </tr>\n",
       "    <tr>\n",
       "      <th>1</th>\n",
       "      <td>Books that are about or talk about US Army PSY...</td>\n",
       "      <td>[Books, that, are, about, or, talk, about, US,...</td>\n",
       "      <td>[Books, that, are, about, or, talk, about, US,...</td>\n",
       "      <td>[(Books, NNS), (that, WDT), (are, VBP), (about...</td>\n",
       "      <td>[]</td>\n",
       "    </tr>\n",
       "    <tr>\n",
       "      <th>2</th>\n",
       "      <td>Looking for new sci-fiSo I read a ton of sci-f...</td>\n",
       "      <td>[Looking, for, new, sci-fiSo, I, read, a, ton,...</td>\n",
       "      <td>[Looking, for, new, sci-fiSo, I, read, a, ton,...</td>\n",
       "      <td>[(Looking, VBG), (for, IN), (new, JJ), (sci-fi...</td>\n",
       "      <td>[]</td>\n",
       "    </tr>\n",
       "    <tr>\n",
       "      <th>3</th>\n",
       "      <td>Recommend me my very first book to readBeing h...</td>\n",
       "      <td>[Recommend, me, my, very, first, book, to, rea...</td>\n",
       "      <td>[Recommend, me, my, very, first, book, to, rea...</td>\n",
       "      <td>[(Recommend, VB), (me, PRP), (my, PRP$), (very...</td>\n",
       "      <td>[]</td>\n",
       "    </tr>\n",
       "    <tr>\n",
       "      <th>4</th>\n",
       "      <td>Started a book club. Suggestions?Somehow I bec...</td>\n",
       "      <td>[Started, a, book, club, ., Suggestions, ?, So...</td>\n",
       "      <td>[Started, a, book, club, ., Suggestions, ?, So...</td>\n",
       "      <td>[(Started, VBD), (a, DT), (book, NN), (club, N...</td>\n",
       "      <td>[]</td>\n",
       "    </tr>\n",
       "  </tbody>\n",
       "</table>\n",
       "</div>"
      ],
      "text/plain": [
       "                                          clean_text  \\\n",
       "0  Looking for Horror fiction that explores the u...   \n",
       "1  Books that are about or talk about US Army PSY...   \n",
       "2  Looking for new sci-fiSo I read a ton of sci-f...   \n",
       "3  Recommend me my very first book to readBeing h...   \n",
       "4  Started a book club. Suggestions?Somehow I bec...   \n",
       "\n",
       "                                         text_tokens  \\\n",
       "0  [Looking, for, Horror, fiction, that, explores...   \n",
       "1  [Books, that, are, about, or, talk, about, US,...   \n",
       "2  [Looking, for, new, sci-fiSo, I, read, a, ton,...   \n",
       "3  [Recommend, me, my, very, first, book, to, rea...   \n",
       "4  [Started, a, book, club, ., Suggestions, ?, So...   \n",
       "\n",
       "                                   text_tokens_lemma  \\\n",
       "0  [Looking, for, Horror, fiction, that, explores...   \n",
       "1  [Books, that, are, about, or, talk, about, US,...   \n",
       "2  [Looking, for, new, sci-fiSo, I, read, a, ton,...   \n",
       "3  [Recommend, me, my, very, first, book, to, rea...   \n",
       "4  [Started, a, book, club, ., Suggestions, ?, So...   \n",
       "\n",
       "                                   tokens_pos_tagged books_detected  \n",
       "0  [(Looking, VBG), (for, IN), (Horror, NNP), (fi...             []  \n",
       "1  [(Books, NNS), (that, WDT), (are, VBP), (about...             []  \n",
       "2  [(Looking, VBG), (for, IN), (new, JJ), (sci-fi...             []  \n",
       "3  [(Recommend, VB), (me, PRP), (my, PRP$), (very...             []  \n",
       "4  [(Started, VBD), (a, DT), (book, NN), (club, N...             []  "
      ]
     },
     "execution_count": 17,
     "metadata": {},
     "output_type": "execute_result"
    }
   ],
   "source": [
    "# detect books from each row\n",
    "def detect_books(text):\n",
    "    books = [str(x) for x in nlp(str(text)).ents if x.label_ in ('WORK_OF_ART')]\n",
    "    return books\n",
    "\n",
    "df['books_detected'] = df['clean_text'].apply(lambda x: detect_books(x))\n",
    "df.head()"
   ]
  },
  {
   "cell_type": "markdown",
   "id": "eight-football",
   "metadata": {},
   "source": [
    "Once we have all the books, we can put them into a data frame and see their frequencies"
   ]
  },
  {
   "cell_type": "code",
   "execution_count": 18,
   "id": "stuck-sleeping",
   "metadata": {},
   "outputs": [
    {
     "data": {
      "text/html": [
       "<div>\n",
       "<style scoped>\n",
       "    .dataframe tbody tr th:only-of-type {\n",
       "        vertical-align: middle;\n",
       "    }\n",
       "\n",
       "    .dataframe tbody tr th {\n",
       "        vertical-align: top;\n",
       "    }\n",
       "\n",
       "    .dataframe thead th {\n",
       "        text-align: right;\n",
       "    }\n",
       "</style>\n",
       "<table border=\"1\" class=\"dataframe\">\n",
       "  <thead>\n",
       "    <tr style=\"text-align: right;\">\n",
       "      <th></th>\n",
       "      <th>book_list</th>\n",
       "    </tr>\n",
       "  </thead>\n",
       "  <tbody>\n",
       "    <tr>\n",
       "      <th>0</th>\n",
       "      <td>The Art of War</td>\n",
       "    </tr>\n",
       "    <tr>\n",
       "      <th>1</th>\n",
       "      <td>Seinfeldia</td>\n",
       "    </tr>\n",
       "    <tr>\n",
       "      <th>2</th>\n",
       "      <td>The Pickwick Papers</td>\n",
       "    </tr>\n",
       "    <tr>\n",
       "      <th>3</th>\n",
       "      <td>Terminator</td>\n",
       "    </tr>\n",
       "    <tr>\n",
       "      <th>4</th>\n",
       "      <td>How the West was Won</td>\n",
       "    </tr>\n",
       "    <tr>\n",
       "      <th>...</th>\n",
       "      <td>...</td>\n",
       "    </tr>\n",
       "    <tr>\n",
       "      <th>14018</th>\n",
       "      <td>Catcher in the Rye</td>\n",
       "    </tr>\n",
       "    <tr>\n",
       "      <th>14019</th>\n",
       "      <td>Stars, Looking</td>\n",
       "    </tr>\n",
       "    <tr>\n",
       "      <th>14020</th>\n",
       "      <td>Sleigh</td>\n",
       "    </tr>\n",
       "    <tr>\n",
       "      <th>14021</th>\n",
       "      <td>The Hunger Games</td>\n",
       "    </tr>\n",
       "    <tr>\n",
       "      <th>14022</th>\n",
       "      <td>The Dragons Path -</td>\n",
       "    </tr>\n",
       "  </tbody>\n",
       "</table>\n",
       "<p>14023 rows × 1 columns</p>\n",
       "</div>"
      ],
      "text/plain": [
       "                  book_list\n",
       "0            The Art of War\n",
       "1                Seinfeldia\n",
       "2       The Pickwick Papers\n",
       "3                Terminator\n",
       "4      How the West was Won\n",
       "...                     ...\n",
       "14018    Catcher in the Rye\n",
       "14019        Stars, Looking\n",
       "14020                Sleigh\n",
       "14021      The Hunger Games\n",
       "14022    The Dragons Path -\n",
       "\n",
       "[14023 rows x 1 columns]"
      ]
     },
     "execution_count": 18,
     "metadata": {},
     "output_type": "execute_result"
    }
   ],
   "source": [
    "# put all the books into a df\n",
    "books = pd.DataFrame([str(x[0]) for x in df['books_detected'] if len(x) > 0], columns=['book_list'])\n",
    "\n",
    "# books\n",
    "books"
   ]
  },
  {
   "cell_type": "markdown",
   "id": "bulgarian-moore",
   "metadata": {},
   "source": [
    "The model detected 14,023 books (864 more than using the raw text, and 3,041 more than a general cleaning method - for a total of 13,159, and 10,982 respectively). Here are our 10 most popular books."
   ]
  },
  {
   "cell_type": "code",
   "execution_count": 19,
   "id": "numerical-battery",
   "metadata": {},
   "outputs": [
    {
     "data": {
      "image/png": "[encoded data removed]",
      "text/plain": [
       "<Figure size 432x288 with 1 Axes>"
      ]
     },
     "metadata": {},
     "output_type": "display_data"
    }
   ],
   "source": [
    "# Top 10 of the most popular books\n",
    "books.value_counts(ascending=False)[:10].plot(kind='barh').invert_yaxis()\n",
    "plt.ylabel('books')\n",
    "plt.xlabel('Count')\n",
    "plt.title('Top 10 Books');"
   ]
  },
  {
   "cell_type": "markdown",
   "id": "objective-penguin",
   "metadata": {},
   "source": [
    "## Modeling"
   ]
  },
  {
   "cell_type": "markdown",
   "id": "tribal-grade",
   "metadata": {},
   "source": [
    "Once we have identified all the books on each row, we can start modeling. We use the Continuous Skip-gram model from Word2Vec (W2V), a two-layer neural network that:\n",
    "\n",
    "    - Takes a vector of words as an input.\n",
    "    - Generates the surrounding \"context words\" as the output."
   ]
  },
  {
   "cell_type": "code",
   "execution_count": 573,
   "id": "collective-product",
   "metadata": {
    "scrolled": true
   },
   "outputs": [
    {
     "name": "stdout",
     "output_type": "stream",
     "text": [
      "instantiate w2v...\n",
      "Done\n"
     ]
    }
   ],
   "source": [
    "# # Train the model! \n",
    "corpus = df['text_tokens']\n",
    "\n",
    "print('instantiate w2v...')\n",
    "model = Word2Vec(corpus,      # Corpus of data.\n",
    "                 size=100,    # How many dimensions do you want in your word vector?\n",
    "                 window=5,    # How many \"context words\" do you want?\n",
    "                 min_count=1, # Ignores words below this threshold.\n",
    "                 sg=1,        # SG = 1 uses SkipGram, SG = 0 uses CBOW (default).\n",
    "                 workers=4)   # Number of \"worker threads\" to use (parallelizes process).\n",
    "print('Done')"
   ]
  },
  {
   "cell_type": "markdown",
   "id": "regulated-witch",
   "metadata": {},
   "source": [
    "Uncomment this part to check our vocabulary."
   ]
  },
  {
   "cell_type": "code",
   "execution_count": 15,
   "id": "subject-radius",
   "metadata": {
    "scrolled": true
   },
   "outputs": [],
   "source": [
    "# uncomment to check the vocabulary of our model\n",
    "# model.wv.vocab"
   ]
  },
  {
   "cell_type": "markdown",
   "id": "framed-advance",
   "metadata": {},
   "source": [
    "Let's now use \"Bible\" as our first example."
   ]
  },
  {
   "cell_type": "code",
   "execution_count": 574,
   "id": "inner-baking",
   "metadata": {},
   "outputs": [
    {
     "data": {
      "text/plain": [
       "[[('Quran', 0.7612322568893433),\n",
       "  ('Poisonwood', 0.7593402862548828),\n",
       "  ('Descartes', 0.7567734718322754),\n",
       "  ('Sisyphus', 0.7411362528800964),\n",
       "  ('Gulag', 0.7182480096817017),\n",
       "  ('Bhagavad', 0.715805172920227),\n",
       "  ('Enlightenment', 0.7142306566238403),\n",
       "  ('Stoic', 0.7136459350585938),\n",
       "  ('Economist', 0.7125303745269775),\n",
       "  ('Socrates', 0.7098446488380432)]]"
      ]
     },
     "execution_count": 574,
     "metadata": {},
     "output_type": "execute_result"
    }
   ],
   "source": [
    "# Example of the most similar words\n",
    "[model.wv.most_similar('Bible')]"
   ]
  },
  {
   "cell_type": "markdown",
   "id": "built-sport",
   "metadata": {},
   "source": [
    "We were able to retrieve similar words with their corresponding cosine similarity scores. Scores range from 0 to 1 and measure the angle between vectors (in this case, words within each sentence). The smaller the angle, the more similar the words, the higher the cosine similarity score.\n",
    "Although most of these words are books, they can also be from other entities like people, locations, organizations, etc. Quran is our most simmilar word with a cosine similarity score of 0.76. Poisonwood, which is from the novel \"The Poisonwood Bible\" by Barbara Kingsolver, follows with 0.76. Our next step is to take a post without any books, input that into a function that we'd define, and filter the output to return only books."
   ]
  },
  {
   "cell_type": "code",
   "execution_count": 592,
   "id": "starting-christopher",
   "metadata": {},
   "outputs": [
    {
     "name": "stdout",
     "output_type": "stream",
     "text": [
      "Looking for Horror fiction that explores the uncanny (Lovecraftian?)I love horror films that delve into the outer reaches of human perception, and present monsters or concepts that avoid the usual cliche of the \"tormented spirit\" or the \"psycho killer\". I haven't read any Lovecraft, but I believe his brand of horror is the kind of thing I'm looking for. Any recommendations would be much appreciated.\n"
     ]
    }
   ],
   "source": [
    "# Lets check out this post\n",
    "print(df['clean_text'][0])"
   ]
  },
  {
   "cell_type": "code",
   "execution_count": 621,
   "id": "radio-lunch",
   "metadata": {},
   "outputs": [],
   "source": [
    "# define a function that takes in words\n",
    "# and return the top three books, with the corresponding posts \n",
    "# based on cosine similarity\n",
    "\n",
    "def post_to_book(word, num_books):\n",
    "    print('tokenizing...')\n",
    "    tokens = word_tokenize(str(word))\n",
    "    result = []\n",
    "    print('computing the cosine similarity...')\n",
    "    for row in df['text_tokens']:\n",
    "        result.append(model.wv.n_similarity(tokens, row))\n",
    "    \n",
    "    result = pd.DataFrame(result, columns=['similarity_scores'])\n",
    "    result['similar_text'] = df['clean_text']\n",
    "    result['similar_tokens'] = df['text_tokens']\n",
    "    result['list_of_books'] = df['books_detected']\n",
    "    print('filtering books...')\n",
    "    result.list_of_books = result.list_of_books.apply(lambda x: np.nan if len(x)==0 else x)\n",
    "    result_books = result.loc[result['list_of_books'].notna(), :\n",
    "                             ].sort_values('similarity_scores', ascending=False)[:num_books]\n",
    "    print('\\n top 3 books with scores:')\n",
    "    print(result_books[['list_of_books', 'similarity_scores']])\n",
    "    print('\\n here is the corresponding data frame...')\n",
    "    return result_books"
   ]
  },
  {
   "cell_type": "markdown",
   "id": "corresponding-preservation",
   "metadata": {},
   "source": [
    "### Results"
   ]
  },
  {
   "cell_type": "code",
   "execution_count": 622,
   "id": "heavy-perspective",
   "metadata": {},
   "outputs": [
    {
     "name": "stdout",
     "output_type": "stream",
     "text": [
      "tokenizing...\n",
      "computing the cosine similarity...\n",
      "filtering books...\n",
      "\n",
      " top 3 books with scores:\n",
      "             list_of_books  similarity_scores\n",
      "5497   [the Twilight Zone]           0.989369\n",
      "68435         [The Ritual]           0.988831\n",
      "64473              [Teeth]           0.988466\n",
      "\n",
      " here is the corresponding data frame...\n"
     ]
    },
    {
     "data": {
      "text/html": [
       "<div>\n",
       "<style scoped>\n",
       "    .dataframe tbody tr th:only-of-type {\n",
       "        vertical-align: middle;\n",
       "    }\n",
       "\n",
       "    .dataframe tbody tr th {\n",
       "        vertical-align: top;\n",
       "    }\n",
       "\n",
       "    .dataframe thead th {\n",
       "        text-align: right;\n",
       "    }\n",
       "</style>\n",
       "<table border=\"1\" class=\"dataframe\">\n",
       "  <thead>\n",
       "    <tr style=\"text-align: right;\">\n",
       "      <th></th>\n",
       "      <th>similarity_scores</th>\n",
       "      <th>similar_text</th>\n",
       "      <th>similar_tokens</th>\n",
       "      <th>list_of_books</th>\n",
       "    </tr>\n",
       "  </thead>\n",
       "  <tbody>\n",
       "    <tr>\n",
       "      <th>5497</th>\n",
       "      <td>0.989369</td>\n",
       "      <td>Any suggestions of some books written before 1...</td>\n",
       "      <td>[Any, suggestions, of, some, books, written, b...</td>\n",
       "      <td>[the Twilight Zone]</td>\n",
       "    </tr>\n",
       "    <tr>\n",
       "      <th>68435</th>\n",
       "      <td>0.988831</td>\n",
       "      <td>books about fictional cults? ; ; Hi there! Rea...</td>\n",
       "      <td>[books, about, fictional, cults, ?, Hi, there,...</td>\n",
       "      <td>[The Ritual]</td>\n",
       "    </tr>\n",
       "    <tr>\n",
       "      <th>64473</th>\n",
       "      <td>0.988466</td>\n",
       "      <td>Books like the movie \"Jennifer's Body\"I've bee...</td>\n",
       "      <td>[Books, like, the, movie, ``, Jennifer, 's, Bo...</td>\n",
       "      <td>[Teeth]</td>\n",
       "    </tr>\n",
       "  </tbody>\n",
       "</table>\n",
       "</div>"
      ],
      "text/plain": [
       "       similarity_scores                                       similar_text  \\\n",
       "5497            0.989369  Any suggestions of some books written before 1...   \n",
       "68435           0.988831  books about fictional cults? ; ; Hi there! Rea...   \n",
       "64473           0.988466  Books like the movie \"Jennifer's Body\"I've bee...   \n",
       "\n",
       "                                          similar_tokens        list_of_books  \n",
       "5497   [Any, suggestions, of, some, books, written, b...  [the Twilight Zone]  \n",
       "68435  [books, about, fictional, cults, ?, Hi, there,...         [The Ritual]  \n",
       "64473  [Books, like, the, movie, ``, Jennifer, 's, Bo...              [Teeth]  "
      ]
     },
     "execution_count": 622,
     "metadata": {},
     "output_type": "execute_result"
    }
   ],
   "source": [
    "# using the above text to return the top 3 books\n",
    "post_to_book(df['clean_text'][0], 3)"
   ]
  },
  {
   "cell_type": "markdown",
   "id": "sound-summit",
   "metadata": {},
   "source": [
    "### Conclusion / Suggestions\n",
    "\n",
    "    The model is indeed able to return 3 books based on our word2vec model and using the cosine similarity. The sentence above, \"Looking for Horror fiction...\" returned \"The Twilight Zone\", \"The Ritual\", and \"Teeth\" with more than 0.989369 for each.\n",
    "\n",
    "    Next: \n",
    "        - Use the lemmatize words as a base for the vocabulary\n",
    "        - Use the tag from NLTK to create a pattern that will be used for our entity detection.. \n",
    "        - Do more cleaning\n",
    "        - Use different models like BERT to identify entities"
   ]
  },
  {
   "cell_type": "code",
   "execution_count": null,
   "id": "collective-version",
   "metadata": {},
   "outputs": [],
   "source": []
  }
 ],
 "metadata": {
  "kernelspec": {
   "display_name": "Python 3",
   "language": "python",
   "name": "python3"
  },
  "language_info": {
   "codemirror_mode": {
    "name": "ipython",
    "version": 3
   },
   "file_extension": ".py",
   "mimetype": "text/x-python",
   "name": "python",
   "nbconvert_exporter": "python",
   "pygments_lexer": "ipython3",
   "version": "3.8.8"
  }
 },
 "nbformat": 4,
 "nbformat_minor": 5
}
